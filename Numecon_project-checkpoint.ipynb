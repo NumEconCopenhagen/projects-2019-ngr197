{
 "cells": [
  {
   "cell_type": "code",
   "execution_count": 4,
   "metadata": {},
   "outputs": [],
   "source": [
    "#Begining of NumEcon project\n",
    "\n",
    "#Import various exstentions\n",
    "import numpy as np\n",
    "import matplotlib.pyplot as plt\n",
    "import pandas as pd \n"
   ]
  },
  {
   "cell_type": "code",
   "execution_count": 5,
   "metadata": {},
   "outputs": [
    {
     "name": "stdout",
     "output_type": "stream",
     "text": [
      "   Current prices and exchange rates          2010          2011  \\\n",
      "0                        NATO Europe  2.745920e+05  2.816833e+05   \n",
      "1                            Belgium  5.245258e+03  5.499595e+03   \n",
      "2                            Croatia  9.197116e+02  9.960017e+02   \n",
      "3                     Czech Republic  2.660369e+03  2.437344e+03   \n",
      "4                            Denmark  4.503558e+03  4.518398e+03   \n",
      "5                            Estonia  3.319663e+02  3.891652e+02   \n",
      "6                             France  5.197112e+04  5.344142e+04   \n",
      "7                            Germany  4.625521e+04  4.814027e+04   \n",
      "8                             Greece  7.901913e+03  6.858334e+03   \n",
      "9                            Hungary  1.350826e+03  1.472068e+03   \n",
      "10                             Italy  2.865582e+04  3.022296e+04   \n",
      "11                            Latvia  2.506727e+02  2.862952e+02   \n",
      "12                         Lithuania  3.257338e+02  3.442345e+02   \n",
      "13                        Luxembourg  2.480485e+02  2.315285e+02   \n",
      "14                        Montenegro  7.449248e+01  7.962745e+01   \n",
      "15                       Netherlands  1.121998e+04  1.133858e+04   \n",
      "16                            Norway  6.498769e+03  7.231803e+03   \n",
      "17                            Poland  8.492681e+03  9.105798e+03   \n",
      "18                          Portugal  3.540048e+03  3.651873e+03   \n",
      "19                           Romania  2.086170e+03  2.379565e+03   \n",
      "20                   Slovak Republic  1.137801e+03  1.065441e+03   \n",
      "21                          Slovenia  7.720805e+02  6.656807e+02   \n",
      "22                             Spain  1.474292e+04  1.398397e+04   \n",
      "23                            Turkey  1.413409e+04  1.361590e+04   \n",
      "24                    United Kingdom  6.032889e+04  6.285214e+04   \n",
      "25                     North America  7.391131e+05  7.627836e+05   \n",
      "26                            Canada  1.869008e+04  2.203965e+04   \n",
      "27                     United States  7.204230e+05  7.407440e+05   \n",
      "28                        NATO Total  1.013705e+06  1.044467e+06   \n",
      "\n",
      "             2012           2013           2014           2015           2016  \\\n",
      "0   263654.039236  269440.555771  270202.242384  235121.230332  237888.161222   \n",
      "1     5169.383271    5263.818628    5191.809165    4202.324169    4315.085056   \n",
      "2      864.743429     849.777555     804.596541     668.749572     623.177343   \n",
      "3     2185.119522    2147.832957    1975.073343    1921.396577    1865.735376   \n",
      "4     4422.945392    4216.076882    4056.492882    3363.988403    3593.406508   \n",
      "5      436.691507     479.804820     512.711448     463.192868     497.232891   \n",
      "6    50244.679161   52316.420291   51939.813094   43474.176017   44191.178821   \n",
      "7    46470.255685   45931.597470   46102.474938   39813.337055   41589.531707   \n",
      "8     5632.725146    5309.551591    5225.514723    4517.341005    4634.795563   \n",
      "9     1322.272739    1280.051646    1209.794955    1132.477295    1288.697010   \n",
      "10   26468.093086   26658.158401   24448.408581   19566.399571   22372.948963   \n",
      "11     248.047343     281.250747     293.274780     281.413495     402.823949   \n",
      "12     323.817731     354.934976     426.939093     471.253565     635.608045   \n",
      "13     214.415279     233.648198     252.544321     249.405280     235.936971   \n",
      "14      67.749629      65.426713      69.021095      56.912174      62.243631   \n",
      "15   10364.576641   10226.498042   10332.282117    8668.291818    9107.974619   \n",
      "16    7143.372022    7407.339251    7336.366420    5815.797221    6063.960077   \n",
      "17    8710.346237    9006.695382   10103.985631   10595.640029    9404.971726   \n",
      "18    3040.317053    3261.689909    3002.588519    2643.830313    2614.737527   \n",
      "19    2099.689735    2451.971244    2691.610929    2580.603146    2632.721374   \n",
      "20    1020.237063     968.302117     997.123195     986.476966    1003.406771   \n",
      "21     543.452696     506.749597     486.194759     400.789939     449.280961   \n",
      "22   13912.039059   12606.824670   12614.265055   11090.457063    9970.851487   \n",
      "23   13895.397800   14426.935602   13582.655579   11956.601506   12628.910026   \n",
      "24   58016.011434   62263.268668   65690.375064   59492.213902   56963.622039   \n",
      "25  732941.185479  699077.377167  672092.221820  659937.820680  673770.108988   \n",
      "26   19994.185479   18221.377167   18150.221820   18684.820680   17711.108988   \n",
      "27  712947.000000  680856.000000  653942.000000  641253.000000  656059.000000   \n",
      "28  996595.224716  968517.932938  942294.464204  895059.051011  911658.270210   \n",
      "\n",
      "             2017  \n",
      "0   249741.272198  \n",
      "1     4457.975174  \n",
      "2      689.611152  \n",
      "3     2248.782903  \n",
      "4     3801.646699  \n",
      "5      538.338504  \n",
      "6    45926.710066  \n",
      "7    45471.823346  \n",
      "8     4736.764741  \n",
      "9     1464.202015  \n",
      "10   23368.830683  \n",
      "11     528.629958  \n",
      "12     813.713230  \n",
      "13     287.592139  \n",
      "14      74.399769  \n",
      "15    9765.249029  \n",
      "16    6698.032698  \n",
      "17   10336.567848  \n",
      "18    2824.053697  \n",
      "19    3657.669990  \n",
      "20    1129.007840  \n",
      "21     477.504323  \n",
      "22   12073.535056  \n",
      "23   12118.452680  \n",
      "24   55236.515558  \n",
      "25  707232.371700  \n",
      "26   21275.371700  \n",
      "27  685957.000000  \n",
      "28  956973.643898  \n"
     ]
    }
   ],
   "source": [
    "#Select data from Nato.int as offline excel document\n",
    "#Import data\n",
    "data1 = \"data.ny.xlsx\"\n",
    "pd.read_excel(data1,\"Ark1\")\n",
    "df1 = pd.read_excel(data1,\"Ark1\")\n",
    "print(df1)\n"
   ]
  },
  {
   "cell_type": "code",
   "execution_count": 35,
   "metadata": {},
   "outputs": [],
   "source": [
    "#Renaming columns\n",
    "df1.rename(columns = {'Current prices and exchange rates':'Countries',}, inplace=True)"
   ]
  },
  {
   "cell_type": "code",
   "execution_count": 6,
   "metadata": {},
   "outputs": [],
   "source": [
    "#Subsetting Countries\n",
    "df1 = df1.set_index(\"Countries\")\n"
   ]
  },
  {
   "cell_type": "code",
   "execution_count": 19,
   "metadata": {},
   "outputs": [
    {
     "data": {
      "text/plain": [
       "{'2010': 'e2010',\n",
       " '2011': 'e2011',\n",
       " '2012': 'e2012',\n",
       " '2013': 'e2013',\n",
       " '2014': 'e2014',\n",
       " '2015': 'e2015',\n",
       " '2016': 'e2016',\n",
       " '2017': 'e2017'}"
      ]
     },
     "execution_count": 19,
     "metadata": {},
     "output_type": "execute_result"
    }
   ],
   "source": [
    "#Remaning the years, due to errors accouring with function variable names as numbers\n",
    "myDict = {}\n",
    "for i in range(2010, 2018): #Range from the years 2010 to 2017  \n",
    "    myDict[str(i)]= f\"e{i}\"\n",
    "myDict\n"
   ]
  },
  {
   "cell_type": "code",
   "execution_count": 28,
   "metadata": {},
   "outputs": [],
   "source": [
    "#Renaming years in dataframe\n",
    "df1.rename(columns = myDict, inplace=True)\n"
   ]
  },
  {
   "cell_type": "code",
   "execution_count": 30,
   "metadata": {},
   "outputs": [
    {
     "ename": "ValueError",
     "evalue": "cannot insert level_0, already exists",
     "output_type": "error",
     "traceback": [
      "\u001b[1;31m---------------------------------------------------------------------------\u001b[0m",
      "\u001b[1;31mValueError\u001b[0m                                Traceback (most recent call last)",
      "\u001b[1;32m<ipython-input-30-afbcf35b6b81>\u001b[0m in \u001b[0;36m<module>\u001b[1;34m\u001b[0m\n\u001b[0;32m      1\u001b[0m \u001b[1;33m\u001b[0m\u001b[0m\n\u001b[0;32m      2\u001b[0m \u001b[1;31m#Resetting index\u001b[0m\u001b[1;33m\u001b[0m\u001b[1;33m\u001b[0m\u001b[1;33m\u001b[0m\u001b[0m\n\u001b[1;32m----> 3\u001b[1;33m \u001b[0mdf1\u001b[0m \u001b[1;33m=\u001b[0m \u001b[0mdf1\u001b[0m\u001b[1;33m.\u001b[0m\u001b[0mreset_index\u001b[0m\u001b[1;33m(\u001b[0m\u001b[1;33m)\u001b[0m\u001b[1;33m\u001b[0m\u001b[1;33m\u001b[0m\u001b[0m\n\u001b[0m",
      "\u001b[1;32m~\\Anaconda3\\lib\\site-packages\\pandas\\core\\frame.py\u001b[0m in \u001b[0;36mreset_index\u001b[1;34m(self, level, drop, inplace, col_level, col_fill)\u001b[0m\n\u001b[0;32m   4137\u001b[0m                 \u001b[1;31m# to ndarray and maybe infer different dtype\u001b[0m\u001b[1;33m\u001b[0m\u001b[1;33m\u001b[0m\u001b[1;33m\u001b[0m\u001b[0m\n\u001b[0;32m   4138\u001b[0m                 \u001b[0mlevel_values\u001b[0m \u001b[1;33m=\u001b[0m \u001b[0m_maybe_casted_values\u001b[0m\u001b[1;33m(\u001b[0m\u001b[0mlev\u001b[0m\u001b[1;33m,\u001b[0m \u001b[0mlab\u001b[0m\u001b[1;33m)\u001b[0m\u001b[1;33m\u001b[0m\u001b[1;33m\u001b[0m\u001b[0m\n\u001b[1;32m-> 4139\u001b[1;33m                 \u001b[0mnew_obj\u001b[0m\u001b[1;33m.\u001b[0m\u001b[0minsert\u001b[0m\u001b[1;33m(\u001b[0m\u001b[1;36m0\u001b[0m\u001b[1;33m,\u001b[0m \u001b[0mname\u001b[0m\u001b[1;33m,\u001b[0m \u001b[0mlevel_values\u001b[0m\u001b[1;33m)\u001b[0m\u001b[1;33m\u001b[0m\u001b[1;33m\u001b[0m\u001b[0m\n\u001b[0m\u001b[0;32m   4140\u001b[0m \u001b[1;33m\u001b[0m\u001b[0m\n\u001b[0;32m   4141\u001b[0m         \u001b[0mnew_obj\u001b[0m\u001b[1;33m.\u001b[0m\u001b[0mindex\u001b[0m \u001b[1;33m=\u001b[0m \u001b[0mnew_index\u001b[0m\u001b[1;33m\u001b[0m\u001b[1;33m\u001b[0m\u001b[0m\n",
      "\u001b[1;32m~\\Anaconda3\\lib\\site-packages\\pandas\\core\\frame.py\u001b[0m in \u001b[0;36minsert\u001b[1;34m(self, loc, column, value, allow_duplicates)\u001b[0m\n\u001b[0;32m   3220\u001b[0m         \u001b[0mvalue\u001b[0m \u001b[1;33m=\u001b[0m \u001b[0mself\u001b[0m\u001b[1;33m.\u001b[0m\u001b[0m_sanitize_column\u001b[0m\u001b[1;33m(\u001b[0m\u001b[0mcolumn\u001b[0m\u001b[1;33m,\u001b[0m \u001b[0mvalue\u001b[0m\u001b[1;33m,\u001b[0m \u001b[0mbroadcast\u001b[0m\u001b[1;33m=\u001b[0m\u001b[1;32mFalse\u001b[0m\u001b[1;33m)\u001b[0m\u001b[1;33m\u001b[0m\u001b[1;33m\u001b[0m\u001b[0m\n\u001b[0;32m   3221\u001b[0m         self._data.insert(loc, column, value,\n\u001b[1;32m-> 3222\u001b[1;33m                           allow_duplicates=allow_duplicates)\n\u001b[0m\u001b[0;32m   3223\u001b[0m \u001b[1;33m\u001b[0m\u001b[0m\n\u001b[0;32m   3224\u001b[0m     \u001b[1;32mdef\u001b[0m \u001b[0massign\u001b[0m\u001b[1;33m(\u001b[0m\u001b[0mself\u001b[0m\u001b[1;33m,\u001b[0m \u001b[1;33m**\u001b[0m\u001b[0mkwargs\u001b[0m\u001b[1;33m)\u001b[0m\u001b[1;33m:\u001b[0m\u001b[1;33m\u001b[0m\u001b[1;33m\u001b[0m\u001b[0m\n",
      "\u001b[1;32m~\\Anaconda3\\lib\\site-packages\\pandas\\core\\internals.py\u001b[0m in \u001b[0;36minsert\u001b[1;34m(self, loc, item, value, allow_duplicates)\u001b[0m\n\u001b[0;32m   4336\u001b[0m         \u001b[1;32mif\u001b[0m \u001b[1;32mnot\u001b[0m \u001b[0mallow_duplicates\u001b[0m \u001b[1;32mand\u001b[0m \u001b[0mitem\u001b[0m \u001b[1;32min\u001b[0m \u001b[0mself\u001b[0m\u001b[1;33m.\u001b[0m\u001b[0mitems\u001b[0m\u001b[1;33m:\u001b[0m\u001b[1;33m\u001b[0m\u001b[1;33m\u001b[0m\u001b[0m\n\u001b[0;32m   4337\u001b[0m             \u001b[1;31m# Should this be a different kind of error??\u001b[0m\u001b[1;33m\u001b[0m\u001b[1;33m\u001b[0m\u001b[1;33m\u001b[0m\u001b[0m\n\u001b[1;32m-> 4338\u001b[1;33m             \u001b[1;32mraise\u001b[0m \u001b[0mValueError\u001b[0m\u001b[1;33m(\u001b[0m\u001b[1;34m'cannot insert {}, already exists'\u001b[0m\u001b[1;33m.\u001b[0m\u001b[0mformat\u001b[0m\u001b[1;33m(\u001b[0m\u001b[0mitem\u001b[0m\u001b[1;33m)\u001b[0m\u001b[1;33m)\u001b[0m\u001b[1;33m\u001b[0m\u001b[1;33m\u001b[0m\u001b[0m\n\u001b[0m\u001b[0;32m   4339\u001b[0m \u001b[1;33m\u001b[0m\u001b[0m\n\u001b[0;32m   4340\u001b[0m         \u001b[1;32mif\u001b[0m \u001b[1;32mnot\u001b[0m \u001b[0misinstance\u001b[0m\u001b[1;33m(\u001b[0m\u001b[0mloc\u001b[0m\u001b[1;33m,\u001b[0m \u001b[0mint\u001b[0m\u001b[1;33m)\u001b[0m\u001b[1;33m:\u001b[0m\u001b[1;33m\u001b[0m\u001b[1;33m\u001b[0m\u001b[0m\n",
      "\u001b[1;31mValueError\u001b[0m: cannot insert level_0, already exists"
     ]
    }
   ],
   "source": [
    "\n",
    "#Resetting index\n",
    "df1 = df1.reset_index()"
   ]
  },
  {
   "cell_type": "code",
   "execution_count": null,
   "metadata": {},
   "outputs": [],
   "source": [
    "#Switching df from wide to long\n",
    "df1 = pd.wide_to_long(df1, stubnames='g', i='Countries', j='Year')\n",
    "\n",
    "#Renaming columns\n",
    "df1 = df1.reset_index()\n",
    "df1 = df1.rename(columns = {\"e\":\"Million dollars\"}, inplace=true)"
   ]
  },
  {
   "cell_type": "code",
   "execution_count": 13,
   "metadata": {},
   "outputs": [],
   "source": [
    "#Showing defence expenditures of Nato Europe and the United states\n",
    "#Making individuel columns starting with NATOs Europe countries combined.\n",
    "NATO_EU = df1.head(1)\n",
    "\n",
    "df_USA = df1.tail(2)\n",
    "USA = df_USA.head(1)\n",
    "year = [2010,2011,2012,2013,2014,2015,2016,2017]"
   ]
  },
  {
   "cell_type": "code",
   "execution_count": 14,
   "metadata": {},
   "outputs": [
    {
     "ename": "ValueError",
     "evalue": "Unrecognized character N in format string",
     "output_type": "error",
     "traceback": [
      "\u001b[1;31m---------------------------------------------------------------------------\u001b[0m",
      "\u001b[1;31mValueError\u001b[0m                                Traceback (most recent call last)",
      "\u001b[1;32m<ipython-input-14-3bcfcdcbdd35>\u001b[0m in \u001b[0;36m<module>\u001b[1;34m\u001b[0m\n\u001b[0;32m      1\u001b[0m \u001b[1;31m#Showing plot of defence expenditures in plot over the period of time.\u001b[0m\u001b[1;33m\u001b[0m\u001b[1;33m\u001b[0m\u001b[1;33m\u001b[0m\u001b[0m\n\u001b[1;32m----> 2\u001b[1;33m \u001b[0mplt\u001b[0m\u001b[1;33m.\u001b[0m\u001b[0mplot\u001b[0m\u001b[1;33m(\u001b[0m\u001b[0myear\u001b[0m\u001b[1;33m,\u001b[0m \u001b[0mNATO_EU\u001b[0m\u001b[1;33m,\u001b[0m \u001b[1;34m\"NATO_EU\"\u001b[0m \u001b[1;33m)\u001b[0m\u001b[1;33m\u001b[0m\u001b[1;33m\u001b[0m\u001b[0m\n\u001b[0m\u001b[0;32m      3\u001b[0m \u001b[0mplt\u001b[0m\u001b[1;33m.\u001b[0m\u001b[0mplot\u001b[0m\u001b[1;33m(\u001b[0m\u001b[0myear\u001b[0m\u001b[1;33m,\u001b[0m\u001b[0mUSA\u001b[0m\u001b[1;33m,\u001b[0m \u001b[1;34m\"USA\"\u001b[0m\u001b[1;33m)\u001b[0m\u001b[1;33m\u001b[0m\u001b[1;33m\u001b[0m\u001b[0m\n\u001b[0;32m      4\u001b[0m \u001b[0mplt\u001b[0m\u001b[1;33m.\u001b[0m\u001b[0mshow\u001b[0m\u001b[1;33m(\u001b[0m\u001b[1;33m)\u001b[0m\u001b[1;33m\u001b[0m\u001b[1;33m\u001b[0m\u001b[0m\n",
      "\u001b[1;32m~\\Anaconda3\\lib\\site-packages\\matplotlib\\pyplot.py\u001b[0m in \u001b[0;36mplot\u001b[1;34m(scalex, scaley, data, *args, **kwargs)\u001b[0m\n\u001b[0;32m   2811\u001b[0m     return gca().plot(\n\u001b[0;32m   2812\u001b[0m         *args, scalex=scalex, scaley=scaley, **({\"data\": data} if data\n\u001b[1;32m-> 2813\u001b[1;33m         is not None else {}), **kwargs)\n\u001b[0m\u001b[0;32m   2814\u001b[0m \u001b[1;33m\u001b[0m\u001b[0m\n\u001b[0;32m   2815\u001b[0m \u001b[1;33m\u001b[0m\u001b[0m\n",
      "\u001b[1;32m~\\Anaconda3\\lib\\site-packages\\matplotlib\\__init__.py\u001b[0m in \u001b[0;36minner\u001b[1;34m(ax, data, *args, **kwargs)\u001b[0m\n\u001b[0;32m   1808\u001b[0m                         \u001b[1;34m\"the Matplotlib list!)\"\u001b[0m \u001b[1;33m%\u001b[0m \u001b[1;33m(\u001b[0m\u001b[0mlabel_namer\u001b[0m\u001b[1;33m,\u001b[0m \u001b[0mfunc\u001b[0m\u001b[1;33m.\u001b[0m\u001b[0m__name__\u001b[0m\u001b[1;33m)\u001b[0m\u001b[1;33m,\u001b[0m\u001b[1;33m\u001b[0m\u001b[1;33m\u001b[0m\u001b[0m\n\u001b[0;32m   1809\u001b[0m                         RuntimeWarning, stacklevel=2)\n\u001b[1;32m-> 1810\u001b[1;33m             \u001b[1;32mreturn\u001b[0m \u001b[0mfunc\u001b[0m\u001b[1;33m(\u001b[0m\u001b[0max\u001b[0m\u001b[1;33m,\u001b[0m \u001b[1;33m*\u001b[0m\u001b[0margs\u001b[0m\u001b[1;33m,\u001b[0m \u001b[1;33m**\u001b[0m\u001b[0mkwargs\u001b[0m\u001b[1;33m)\u001b[0m\u001b[1;33m\u001b[0m\u001b[1;33m\u001b[0m\u001b[0m\n\u001b[0m\u001b[0;32m   1811\u001b[0m \u001b[1;33m\u001b[0m\u001b[0m\n\u001b[0;32m   1812\u001b[0m         inner.__doc__ = _add_data_doc(inner.__doc__,\n",
      "\u001b[1;32m~\\Anaconda3\\lib\\site-packages\\matplotlib\\axes\\_axes.py\u001b[0m in \u001b[0;36mplot\u001b[1;34m(self, scalex, scaley, *args, **kwargs)\u001b[0m\n\u001b[0;32m   1609\u001b[0m         \u001b[0mkwargs\u001b[0m \u001b[1;33m=\u001b[0m \u001b[0mcbook\u001b[0m\u001b[1;33m.\u001b[0m\u001b[0mnormalize_kwargs\u001b[0m\u001b[1;33m(\u001b[0m\u001b[0mkwargs\u001b[0m\u001b[1;33m,\u001b[0m \u001b[0mmlines\u001b[0m\u001b[1;33m.\u001b[0m\u001b[0mLine2D\u001b[0m\u001b[1;33m.\u001b[0m\u001b[0m_alias_map\u001b[0m\u001b[1;33m)\u001b[0m\u001b[1;33m\u001b[0m\u001b[1;33m\u001b[0m\u001b[0m\n\u001b[0;32m   1610\u001b[0m \u001b[1;33m\u001b[0m\u001b[0m\n\u001b[1;32m-> 1611\u001b[1;33m         \u001b[1;32mfor\u001b[0m \u001b[0mline\u001b[0m \u001b[1;32min\u001b[0m \u001b[0mself\u001b[0m\u001b[1;33m.\u001b[0m\u001b[0m_get_lines\u001b[0m\u001b[1;33m(\u001b[0m\u001b[1;33m*\u001b[0m\u001b[0margs\u001b[0m\u001b[1;33m,\u001b[0m \u001b[1;33m**\u001b[0m\u001b[0mkwargs\u001b[0m\u001b[1;33m)\u001b[0m\u001b[1;33m:\u001b[0m\u001b[1;33m\u001b[0m\u001b[1;33m\u001b[0m\u001b[0m\n\u001b[0m\u001b[0;32m   1612\u001b[0m             \u001b[0mself\u001b[0m\u001b[1;33m.\u001b[0m\u001b[0madd_line\u001b[0m\u001b[1;33m(\u001b[0m\u001b[0mline\u001b[0m\u001b[1;33m)\u001b[0m\u001b[1;33m\u001b[0m\u001b[1;33m\u001b[0m\u001b[0m\n\u001b[0;32m   1613\u001b[0m             \u001b[0mlines\u001b[0m\u001b[1;33m.\u001b[0m\u001b[0mappend\u001b[0m\u001b[1;33m(\u001b[0m\u001b[0mline\u001b[0m\u001b[1;33m)\u001b[0m\u001b[1;33m\u001b[0m\u001b[1;33m\u001b[0m\u001b[0m\n",
      "\u001b[1;32m~\\Anaconda3\\lib\\site-packages\\matplotlib\\axes\\_base.py\u001b[0m in \u001b[0;36m_grab_next_args\u001b[1;34m(self, *args, **kwargs)\u001b[0m\n\u001b[0;32m    391\u001b[0m                 \u001b[0mthis\u001b[0m \u001b[1;33m+=\u001b[0m \u001b[0margs\u001b[0m\u001b[1;33m[\u001b[0m\u001b[1;36m0\u001b[0m\u001b[1;33m]\u001b[0m\u001b[1;33m,\u001b[0m\u001b[1;33m\u001b[0m\u001b[1;33m\u001b[0m\u001b[0m\n\u001b[0;32m    392\u001b[0m                 \u001b[0margs\u001b[0m \u001b[1;33m=\u001b[0m \u001b[0margs\u001b[0m\u001b[1;33m[\u001b[0m\u001b[1;36m1\u001b[0m\u001b[1;33m:\u001b[0m\u001b[1;33m]\u001b[0m\u001b[1;33m\u001b[0m\u001b[1;33m\u001b[0m\u001b[0m\n\u001b[1;32m--> 393\u001b[1;33m             \u001b[1;32myield\u001b[0m \u001b[1;32mfrom\u001b[0m \u001b[0mself\u001b[0m\u001b[1;33m.\u001b[0m\u001b[0m_plot_args\u001b[0m\u001b[1;33m(\u001b[0m\u001b[0mthis\u001b[0m\u001b[1;33m,\u001b[0m \u001b[0mkwargs\u001b[0m\u001b[1;33m)\u001b[0m\u001b[1;33m\u001b[0m\u001b[1;33m\u001b[0m\u001b[0m\n\u001b[0m\u001b[0;32m    394\u001b[0m \u001b[1;33m\u001b[0m\u001b[0m\n\u001b[0;32m    395\u001b[0m \u001b[1;33m\u001b[0m\u001b[0m\n",
      "\u001b[1;32m~\\Anaconda3\\lib\\site-packages\\matplotlib\\axes\\_base.py\u001b[0m in \u001b[0;36m_plot_args\u001b[1;34m(self, tup, kwargs)\u001b[0m\n\u001b[0;32m    340\u001b[0m         \u001b[0mret\u001b[0m \u001b[1;33m=\u001b[0m \u001b[1;33m[\u001b[0m\u001b[1;33m]\u001b[0m\u001b[1;33m\u001b[0m\u001b[1;33m\u001b[0m\u001b[0m\n\u001b[0;32m    341\u001b[0m         \u001b[1;32mif\u001b[0m \u001b[0mlen\u001b[0m\u001b[1;33m(\u001b[0m\u001b[0mtup\u001b[0m\u001b[1;33m)\u001b[0m \u001b[1;33m>\u001b[0m \u001b[1;36m1\u001b[0m \u001b[1;32mand\u001b[0m \u001b[0misinstance\u001b[0m\u001b[1;33m(\u001b[0m\u001b[0mtup\u001b[0m\u001b[1;33m[\u001b[0m\u001b[1;33m-\u001b[0m\u001b[1;36m1\u001b[0m\u001b[1;33m]\u001b[0m\u001b[1;33m,\u001b[0m \u001b[0mstr\u001b[0m\u001b[1;33m)\u001b[0m\u001b[1;33m:\u001b[0m\u001b[1;33m\u001b[0m\u001b[1;33m\u001b[0m\u001b[0m\n\u001b[1;32m--> 342\u001b[1;33m             \u001b[0mlinestyle\u001b[0m\u001b[1;33m,\u001b[0m \u001b[0mmarker\u001b[0m\u001b[1;33m,\u001b[0m \u001b[0mcolor\u001b[0m \u001b[1;33m=\u001b[0m \u001b[0m_process_plot_format\u001b[0m\u001b[1;33m(\u001b[0m\u001b[0mtup\u001b[0m\u001b[1;33m[\u001b[0m\u001b[1;33m-\u001b[0m\u001b[1;36m1\u001b[0m\u001b[1;33m]\u001b[0m\u001b[1;33m)\u001b[0m\u001b[1;33m\u001b[0m\u001b[1;33m\u001b[0m\u001b[0m\n\u001b[0m\u001b[0;32m    343\u001b[0m             \u001b[0mtup\u001b[0m \u001b[1;33m=\u001b[0m \u001b[0mtup\u001b[0m\u001b[1;33m[\u001b[0m\u001b[1;33m:\u001b[0m\u001b[1;33m-\u001b[0m\u001b[1;36m1\u001b[0m\u001b[1;33m]\u001b[0m\u001b[1;33m\u001b[0m\u001b[1;33m\u001b[0m\u001b[0m\n\u001b[0;32m    344\u001b[0m         \u001b[1;32melif\u001b[0m \u001b[0mlen\u001b[0m\u001b[1;33m(\u001b[0m\u001b[0mtup\u001b[0m\u001b[1;33m)\u001b[0m \u001b[1;33m==\u001b[0m \u001b[1;36m3\u001b[0m\u001b[1;33m:\u001b[0m\u001b[1;33m\u001b[0m\u001b[1;33m\u001b[0m\u001b[0m\n",
      "\u001b[1;32m~\\Anaconda3\\lib\\site-packages\\matplotlib\\axes\\_base.py\u001b[0m in \u001b[0;36m_process_plot_format\u001b[1;34m(fmt)\u001b[0m\n\u001b[0;32m    116\u001b[0m         \u001b[1;32melse\u001b[0m\u001b[1;33m:\u001b[0m\u001b[1;33m\u001b[0m\u001b[1;33m\u001b[0m\u001b[0m\n\u001b[0;32m    117\u001b[0m             raise ValueError(\n\u001b[1;32m--> 118\u001b[1;33m                 'Unrecognized character %c in format string' % c)\n\u001b[0m\u001b[0;32m    119\u001b[0m         \u001b[0mi\u001b[0m \u001b[1;33m+=\u001b[0m \u001b[1;36m1\u001b[0m\u001b[1;33m\u001b[0m\u001b[1;33m\u001b[0m\u001b[0m\n\u001b[0;32m    120\u001b[0m \u001b[1;33m\u001b[0m\u001b[0m\n",
      "\u001b[1;31mValueError\u001b[0m: Unrecognized character N in format string"
     ]
    },
    {
     "data": {
      "image/png": "[encoded data removed]",
      "text/plain": [
       "<Figure size 432x288 with 1 Axes>"
      ]
     },
     "metadata": {
      "needs_background": "light"
     },
     "output_type": "display_data"
    }
   ],
   "source": [
    "#Showing plot of defence expenditures in plot over the period of time.\n",
    "plt.plot(year, NATO_EU, \"NATO_EU\" )\n",
    "plt.plot(year,USA, \"USA\")\n",
    "plt.show()"
   ]
  },
  {
   "cell_type": "code",
   "execution_count": 15,
   "metadata": {},
   "outputs": [
    {
     "name": "stdout",
     "output_type": "stream",
     "text": [
      "          Countries      2010      2011      2012      2013      2014  \\\n",
      "0       NATO Europe  1.631173  1.548420  1.520327  1.491510  1.443984   \n",
      "1           Albania  1.558599  1.528265  1.487077  1.408971  1.346517   \n",
      "2           Belgium  1.084753  1.043543  1.038279  1.010462  0.977602   \n",
      "3        Bulgaria *  1.644877  1.319961  1.339898  1.455100  1.317120   \n",
      "4           Croatia  1.541448  1.600373  1.530839  1.470996  1.409536   \n",
      "5    Czech Republic  1.282226  1.069258  1.053724  1.025718  0.950499   \n",
      "6           Denmark  1.398642  1.313513  1.351858  1.227222  1.149258   \n",
      "7           Estonia  1.703195  1.679579  1.895060  1.908724  1.955075   \n",
      "8            France  1.963531  1.866818  1.873827  1.862759  1.822892   \n",
      "9           Germany  1.353651  1.281101  1.311254  1.224007  1.184968   \n",
      "10           Greece  2.639606  2.383022  2.292815  2.213560  2.204582   \n",
      "11          Hungary  1.031769  1.045636  1.034188  0.946674  0.863416   \n",
      "12            Italy  1.348481  1.298168  1.244718  1.202080  1.082971   \n",
      "13           Latvia  1.055144  1.014376  0.882110  0.927769  0.933428   \n",
      "14        Lithuania  0.877509  0.791759  0.755739  0.764651  0.879989   \n",
      "15       Luxembourg  0.466150  0.385848  0.378308  0.378438  0.380754   \n",
      "16       Montenegro  1.799806  1.754482  1.657392  1.465469  1.504466   \n",
      "17      Netherlands  1.341486  1.254879  1.232205  1.160738  1.146710   \n",
      "18           Norway  1.514361  1.506887  1.472806  1.480482  1.514593   \n",
      "19           Poland  1.771813  1.721869  1.740813  1.718067  1.853390   \n",
      "20         Portugal  1.485531  1.491188  1.405171  1.442739  1.307576   \n",
      "21          Romania  1.241821  1.283902  1.223064  1.280113  1.349142   \n",
      "22  Slovak Republic  1.271280  1.085170  1.092176  0.983252  0.987756   \n",
      "23         Slovenia  1.608056  1.297847  1.172436  1.053165  0.974241   \n",
      "24            Spain  1.029816  0.939734  1.041314  0.925699  0.916127   \n",
      "25           Turkey  1.831074  1.635497  1.589895  1.517699  1.454023   \n",
      "26   United Kingdom  2.471913  2.397719  2.169639  2.272343  2.172058   \n",
      "27    North America  4.458454  4.425660  4.089492  3.774277  3.497272   \n",
      "28           Canada  1.158424  1.232159  1.096012  0.988884  1.012344   \n",
      "29    United States  4.814251  4.775189  4.415596  4.080093  3.770089   \n",
      "30       NATO Total  3.033973  2.974064  2.807841  2.641494  2.481796   \n",
      "\n",
      "        2015      2016     2017e  \n",
      "0   1.420845  1.443542  1.464521  \n",
      "1   1.167611  1.103372  1.102967  \n",
      "2   0.923185  0.922113  0.899693  \n",
      "3   1.260425  1.259708  1.533338  \n",
      "4   1.366975  1.228782  1.263567  \n",
      "5   1.028420  0.955293  1.048622  \n",
      "6   1.116501  1.170852  1.171032  \n",
      "7   2.052527  2.130580  2.084961  \n",
      "8   1.786442  1.792415  1.785808  \n",
      "9   1.179441  1.195859  1.235435  \n",
      "10  2.310168  2.405302  2.358767  \n",
      "11  0.921620  1.024266  1.056270  \n",
      "12  1.009774  1.119515  1.120911  \n",
      "13  1.041916  1.460952  1.746722  \n",
      "14  1.135315  1.486002  1.731791  \n",
      "15  0.431613  0.402408  0.459439  \n",
      "16  1.404165  1.423050  1.577149  \n",
      "17  1.124280  1.148739  1.154381  \n",
      "18  1.461077  1.540038  1.621250  \n",
      "19  2.219653  1.995105  1.992358  \n",
      "20  1.325758  1.276499  1.305910  \n",
      "21  1.450489  1.410203  1.799356  \n",
      "22  1.127384  1.117770  1.187159  \n",
      "23  0.930503  1.004910  0.978653  \n",
      "24  0.925910  0.805885  0.924493  \n",
      "25  1.390635  1.462167  1.477193  \n",
      "26  2.061714  2.151277  2.116471  \n",
      "27  3.331810  3.330030  3.347018  \n",
      "28  1.203293  1.157770  1.290315  \n",
      "29  3.561135  3.564028  3.570249  \n",
      "30  2.388969  2.397289  2.415058  \n"
     ]
    }
   ],
   "source": [
    "#Plot above shows the actual spending on military in dollars and cents.\n",
    "#Next focus will be on, the invidual NATO countries spending on military as a % part of their GNP.\n",
    "\n",
    "#Import data\n",
    "data2 = \"data.ny.xlsx\"\n",
    "pd.read_excel(data2,\"Ark2\")\n",
    "df2 = pd.read_excel(data2,\"Ark2\")\n",
    "print(df2)"
   ]
  },
  {
   "cell_type": "code",
   "execution_count": 16,
   "metadata": {},
   "outputs": [],
   "source": [
    "#Set Countries as a index number\n",
    "df2 = df2.set_index(\"Countries\")\n"
   ]
  },
  {
   "cell_type": "code",
   "execution_count": 17,
   "metadata": {},
   "outputs": [
    {
     "data": {
      "text/plain": [
       "{'2010': 'e2010',\n",
       " '2011': 'e2011',\n",
       " '2012': 'e2012',\n",
       " '2013': 'e2013',\n",
       " '2014': 'e2014',\n",
       " '2015': 'e2015',\n",
       " '2016': 'e2016',\n",
       " '2017': 'e2017'}"
      ]
     },
     "execution_count": 17,
     "metadata": {},
     "output_type": "execute_result"
    }
   ],
   "source": [
    "#Changing names of variables\n",
    "MyDict2 = {}\n",
    "for i in range(2010, 2018): \n",
    "    MyDict2[str(i)] = f'e{i}'\n",
    "MyDict2"
   ]
  },
  {
   "cell_type": "code",
   "execution_count": 31,
   "metadata": {},
   "outputs": [],
   "source": [
    "#Renmaing years\n",
    "df2.rename(columns = MyDict2, inplace = True)"
   ]
  },
  {
   "cell_type": "code",
   "execution_count": 34,
   "metadata": {},
   "outputs": [
    {
     "name": "stdout",
     "output_type": "stream",
     "text": [
      "    index        Countries      2010      2011      2012      2013      2014  \\\n",
      "0       0      NATO Europe  1.631173  1.548420  1.520327  1.491510  1.443984   \n",
      "1       1          Albania  1.558599  1.528265  1.487077  1.408971  1.346517   \n",
      "2       2          Belgium  1.084753  1.043543  1.038279  1.010462  0.977602   \n",
      "3       3       Bulgaria *  1.644877  1.319961  1.339898  1.455100  1.317120   \n",
      "4       4          Croatia  1.541448  1.600373  1.530839  1.470996  1.409536   \n",
      "5       5   Czech Republic  1.282226  1.069258  1.053724  1.025718  0.950499   \n",
      "6       6          Denmark  1.398642  1.313513  1.351858  1.227222  1.149258   \n",
      "7       7          Estonia  1.703195  1.679579  1.895060  1.908724  1.955075   \n",
      "8       8           France  1.963531  1.866818  1.873827  1.862759  1.822892   \n",
      "9       9          Germany  1.353651  1.281101  1.311254  1.224007  1.184968   \n",
      "10     10           Greece  2.639606  2.383022  2.292815  2.213560  2.204582   \n",
      "11     11          Hungary  1.031769  1.045636  1.034188  0.946674  0.863416   \n",
      "12     12            Italy  1.348481  1.298168  1.244718  1.202080  1.082971   \n",
      "13     13           Latvia  1.055144  1.014376  0.882110  0.927769  0.933428   \n",
      "14     14        Lithuania  0.877509  0.791759  0.755739  0.764651  0.879989   \n",
      "15     15       Luxembourg  0.466150  0.385848  0.378308  0.378438  0.380754   \n",
      "16     16       Montenegro  1.799806  1.754482  1.657392  1.465469  1.504466   \n",
      "17     17      Netherlands  1.341486  1.254879  1.232205  1.160738  1.146710   \n",
      "18     18           Norway  1.514361  1.506887  1.472806  1.480482  1.514593   \n",
      "19     19           Poland  1.771813  1.721869  1.740813  1.718067  1.853390   \n",
      "20     20         Portugal  1.485531  1.491188  1.405171  1.442739  1.307576   \n",
      "21     21          Romania  1.241821  1.283902  1.223064  1.280113  1.349142   \n",
      "22     22  Slovak Republic  1.271280  1.085170  1.092176  0.983252  0.987756   \n",
      "23     23         Slovenia  1.608056  1.297847  1.172436  1.053165  0.974241   \n",
      "24     24            Spain  1.029816  0.939734  1.041314  0.925699  0.916127   \n",
      "25     25           Turkey  1.831074  1.635497  1.589895  1.517699  1.454023   \n",
      "26     26   United Kingdom  2.471913  2.397719  2.169639  2.272343  2.172058   \n",
      "27     27    North America  4.458454  4.425660  4.089492  3.774277  3.497272   \n",
      "28     28           Canada  1.158424  1.232159  1.096012  0.988884  1.012344   \n",
      "29     29    United States  4.814251  4.775189  4.415596  4.080093  3.770089   \n",
      "30     30       NATO Total  3.033973  2.974064  2.807841  2.641494  2.481796   \n",
      "\n",
      "        2015      2016     2017e  \n",
      "0   1.420845  1.443542  1.464521  \n",
      "1   1.167611  1.103372  1.102967  \n",
      "2   0.923185  0.922113  0.899693  \n",
      "3   1.260425  1.259708  1.533338  \n",
      "4   1.366975  1.228782  1.263567  \n",
      "5   1.028420  0.955293  1.048622  \n",
      "6   1.116501  1.170852  1.171032  \n",
      "7   2.052527  2.130580  2.084961  \n",
      "8   1.786442  1.792415  1.785808  \n",
      "9   1.179441  1.195859  1.235435  \n",
      "10  2.310168  2.405302  2.358767  \n",
      "11  0.921620  1.024266  1.056270  \n",
      "12  1.009774  1.119515  1.120911  \n",
      "13  1.041916  1.460952  1.746722  \n",
      "14  1.135315  1.486002  1.731791  \n",
      "15  0.431613  0.402408  0.459439  \n",
      "16  1.404165  1.423050  1.577149  \n",
      "17  1.124280  1.148739  1.154381  \n",
      "18  1.461077  1.540038  1.621250  \n",
      "19  2.219653  1.995105  1.992358  \n",
      "20  1.325758  1.276499  1.305910  \n",
      "21  1.450489  1.410203  1.799356  \n",
      "22  1.127384  1.117770  1.187159  \n",
      "23  0.930503  1.004910  0.978653  \n",
      "24  0.925910  0.805885  0.924493  \n",
      "25  1.390635  1.462167  1.477193  \n",
      "26  2.061714  2.151277  2.116471  \n",
      "27  3.331810  3.330030  3.347018  \n",
      "28  1.203293  1.157770  1.290315  \n",
      "29  3.561135  3.564028  3.570249  \n",
      "30  2.388969  2.397289  2.415058  \n"
     ]
    }
   ],
   "source": [
    "#Resetting index\n",
    "df2 = df2.reset_index()\n",
    "print(df2)"
   ]
  },
  {
   "cell_type": "code",
   "execution_count": 33,
   "metadata": {},
   "outputs": [
    {
     "ename": "TypeError",
     "evalue": "'in <string>' requires string as left operand, not int",
     "output_type": "error",
     "traceback": [
      "\u001b[1;31m---------------------------------------------------------------------------\u001b[0m",
      "\u001b[1;31mTypeError\u001b[0m                                 Traceback (most recent call last)",
      "\u001b[1;32m<ipython-input-33-cf991ca3f3e3>\u001b[0m in \u001b[0;36m<module>\u001b[1;34m\u001b[0m\n\u001b[0;32m      1\u001b[0m \u001b[1;31m# Changing dataframe from wide to long\u001b[0m\u001b[1;33m\u001b[0m\u001b[1;33m\u001b[0m\u001b[1;33m\u001b[0m\u001b[0m\n\u001b[1;32m----> 2\u001b[1;33m \u001b[0mdf2\u001b[0m \u001b[1;33m=\u001b[0m \u001b[0mpd\u001b[0m\u001b[1;33m.\u001b[0m\u001b[0mwide_to_long\u001b[0m\u001b[1;33m(\u001b[0m\u001b[0mdf2\u001b[0m\u001b[1;33m,\u001b[0m \u001b[0mstubnames\u001b[0m\u001b[1;33m=\u001b[0m\u001b[1;34m'e'\u001b[0m\u001b[1;33m,\u001b[0m \u001b[0mi\u001b[0m\u001b[1;33m=\u001b[0m\u001b[1;34m'Countries'\u001b[0m\u001b[1;33m,\u001b[0m \u001b[0mj\u001b[0m\u001b[1;33m=\u001b[0m\u001b[1;34m'Year'\u001b[0m\u001b[1;33m)\u001b[0m\u001b[1;33m\u001b[0m\u001b[1;33m\u001b[0m\u001b[0m\n\u001b[0m",
      "\u001b[1;32m~\\Anaconda3\\lib\\site-packages\\pandas\\core\\reshape\\melt.py\u001b[0m in \u001b[0;36mwide_to_long\u001b[1;34m(df, stubnames, i, j, sep, suffix)\u001b[0m\n\u001b[0;32m    412\u001b[0m         \u001b[1;32mreturn\u001b[0m \u001b[0mnewdf\u001b[0m\u001b[1;33m.\u001b[0m\u001b[0mset_index\u001b[0m\u001b[1;33m(\u001b[0m\u001b[0mi\u001b[0m \u001b[1;33m+\u001b[0m \u001b[1;33m[\u001b[0m\u001b[0mj\u001b[0m\u001b[1;33m]\u001b[0m\u001b[1;33m)\u001b[0m\u001b[1;33m\u001b[0m\u001b[1;33m\u001b[0m\u001b[0m\n\u001b[0;32m    413\u001b[0m \u001b[1;33m\u001b[0m\u001b[0m\n\u001b[1;32m--> 414\u001b[1;33m     \u001b[1;32mif\u001b[0m \u001b[0many\u001b[0m\u001b[1;33m(\u001b[0m\u001b[0mcol\u001b[0m \u001b[1;32min\u001b[0m \u001b[0mstubnames\u001b[0m \u001b[1;32mfor\u001b[0m \u001b[0mcol\u001b[0m \u001b[1;32min\u001b[0m \u001b[0mdf\u001b[0m\u001b[1;33m.\u001b[0m\u001b[0mcolumns\u001b[0m\u001b[1;33m)\u001b[0m\u001b[1;33m:\u001b[0m\u001b[1;33m\u001b[0m\u001b[1;33m\u001b[0m\u001b[0m\n\u001b[0m\u001b[0;32m    415\u001b[0m         \u001b[1;32mraise\u001b[0m \u001b[0mValueError\u001b[0m\u001b[1;33m(\u001b[0m\u001b[1;34m\"stubname can't be identical to a column name\"\u001b[0m\u001b[1;33m)\u001b[0m\u001b[1;33m\u001b[0m\u001b[1;33m\u001b[0m\u001b[0m\n\u001b[0;32m    416\u001b[0m \u001b[1;33m\u001b[0m\u001b[0m\n",
      "\u001b[1;32m~\\Anaconda3\\lib\\site-packages\\pandas\\core\\reshape\\melt.py\u001b[0m in \u001b[0;36m<genexpr>\u001b[1;34m(.0)\u001b[0m\n\u001b[0;32m    412\u001b[0m         \u001b[1;32mreturn\u001b[0m \u001b[0mnewdf\u001b[0m\u001b[1;33m.\u001b[0m\u001b[0mset_index\u001b[0m\u001b[1;33m(\u001b[0m\u001b[0mi\u001b[0m \u001b[1;33m+\u001b[0m \u001b[1;33m[\u001b[0m\u001b[0mj\u001b[0m\u001b[1;33m]\u001b[0m\u001b[1;33m)\u001b[0m\u001b[1;33m\u001b[0m\u001b[1;33m\u001b[0m\u001b[0m\n\u001b[0;32m    413\u001b[0m \u001b[1;33m\u001b[0m\u001b[0m\n\u001b[1;32m--> 414\u001b[1;33m     \u001b[1;32mif\u001b[0m \u001b[0many\u001b[0m\u001b[1;33m(\u001b[0m\u001b[0mcol\u001b[0m \u001b[1;32min\u001b[0m \u001b[0mstubnames\u001b[0m \u001b[1;32mfor\u001b[0m \u001b[0mcol\u001b[0m \u001b[1;32min\u001b[0m \u001b[0mdf\u001b[0m\u001b[1;33m.\u001b[0m\u001b[0mcolumns\u001b[0m\u001b[1;33m)\u001b[0m\u001b[1;33m:\u001b[0m\u001b[1;33m\u001b[0m\u001b[1;33m\u001b[0m\u001b[0m\n\u001b[0m\u001b[0;32m    415\u001b[0m         \u001b[1;32mraise\u001b[0m \u001b[0mValueError\u001b[0m\u001b[1;33m(\u001b[0m\u001b[1;34m\"stubname can't be identical to a column name\"\u001b[0m\u001b[1;33m)\u001b[0m\u001b[1;33m\u001b[0m\u001b[1;33m\u001b[0m\u001b[0m\n\u001b[0;32m    416\u001b[0m \u001b[1;33m\u001b[0m\u001b[0m\n",
      "\u001b[1;31mTypeError\u001b[0m: 'in <string>' requires string as left operand, not int"
     ]
    }
   ],
   "source": [
    "# Changing dataframe from wide to long\n",
    "df2 = pd.wide_to_long(df2, stubnames='e', i='Countries', j='Year')"
   ]
  },
  {
   "cell_type": "code",
   "execution_count": null,
   "metadata": {},
   "outputs": [],
   "source": [
    "#renaming columns\n",
    "df2 = df2.reset_index()\n",
    "df2.rename(columns = {'e':'Procent of GDP'}, inplace = True)"
   ]
  },
  {
   "cell_type": "code",
   "execution_count": null,
   "metadata": {},
   "outputs": [],
   "source": [
    "#Showing Scatterplot for % of GDP used on military\n",
    "plt(x = \"year\", y = \"Procent of GDP\")\n",
    "plt.xlabel(\"Year\")\n",
    "plt.ylabel(\"Procent of GDP\")\n",
    "plt.title(\"NATO countries use on military expendures as a part of their GDP (2010-2017)\")"
   ]
  },
  {
   "cell_type": "code",
   "execution_count": null,
   "metadata": {},
   "outputs": [],
   "source": [
    "plt.show()"
   ]
  }
 ],
 "metadata": {
  "kernelspec": {
   "display_name": "Python 3",
   "language": "python",
   "name": "python3"
  },
  "language_info": {
   "codemirror_mode": {
    "name": "ipython",
    "version": 3
   },
   "file_extension": ".py",
   "mimetype": "text/x-python",
   "name": "python",
   "nbconvert_exporter": "python",
   "pygments_lexer": "ipython3",
   "version": "3.7.1"
  }
 },
 "nbformat": 4,
 "nbformat_minor": 2
}
